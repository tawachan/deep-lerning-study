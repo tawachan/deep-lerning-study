{
 "cells": [
  {
   "cell_type": "code",
   "execution_count": 1,
   "metadata": {},
   "outputs": [],
   "source": [
    "import numpy as np"
   ]
  },
  {
   "cell_type": "code",
   "execution_count": 2,
   "metadata": {},
   "outputs": [
    {
     "name": "stdout",
     "output_type": "stream",
     "text": [
      "[[-1.55560716 -0.95836863]\n",
      " [ 2.03049792 -0.67215443]\n",
      " [-0.01296576 -0.05850642]]\n",
      "[[-0.09126923  0.30468877  1.51862107]\n",
      " [-0.99354028 -0.88345486 -1.67947965]]\n"
     ]
    }
   ],
   "source": [
    "a = np.random.randn(3, 2)\n",
    "b = np.random.randn(2, 3)\n",
    "print(a)\n",
    "print(b)"
   ]
  },
  {
   "cell_type": "code",
   "execution_count": 3,
   "metadata": {},
   "outputs": [
    {
     "name": "stdout",
     "output_type": "stream",
     "text": [
      "[[ 1.09415691  0.37269939 -0.75281718]\n",
      " [ 0.48249053  1.21248801  4.21242661]\n",
      " [ 0.05931186  0.04773726  0.07857027]]\n"
     ]
    }
   ],
   "source": [
    "c = np.dot(a, b)\n",
    "print(c)"
   ]
  },
  {
   "cell_type": "code",
   "execution_count": 4,
   "metadata": {},
   "outputs": [
    {
     "name": "stdout",
     "output_type": "stream",
     "text": [
      "[[1.63595929 1.63292466 3.5381797 ]]\n"
     ]
    }
   ],
   "source": [
    "s = np.sum(c, axis=0, keepdims=True)\n",
    "print(s)"
   ]
  },
  {
   "cell_type": "code",
   "execution_count": 5,
   "metadata": {},
   "outputs": [
    {
     "name": "stdout",
     "output_type": "stream",
     "text": [
      "[[1.63595929 1.63292466 3.5381797 ]\n",
      " [1.63595929 1.63292466 3.5381797 ]\n",
      " [1.63595929 1.63292466 3.5381797 ]]\n"
     ]
    }
   ],
   "source": [
    "r = np.repeat(s, 3, axis=0)\n",
    "print(r)"
   ]
  },
  {
   "cell_type": "code",
   "execution_count": 6,
   "metadata": {},
   "outputs": [
    {
     "name": "stdout",
     "output_type": "stream",
     "text": [
      "[1 3]\n"
     ]
    }
   ],
   "source": [
    "x = np.array([1, 3])\n",
    "y = np.array([3, 5])\n",
    "y[...] = x\n",
    "print(y)"
   ]
  },
  {
   "cell_type": "code",
   "execution_count": 7,
   "metadata": {},
   "outputs": [
    {
     "name": "stdout",
     "output_type": "stream",
     "text": [
      "[6. 1. 9. 3. 2. 8. 5. 4. 7. 0.]\n",
      "float32\n"
     ]
    }
   ],
   "source": [
    "d = np.random.permutation(10).astype(np.float32)\n",
    "print(d)\n",
    "print(d.dtype)"
   ]
  },
  {
   "cell_type": "markdown",
   "metadata": {},
   "source": [
    "# クラメールの公式というやつ"
   ]
  },
  {
   "cell_type": "code",
   "execution_count": 8,
   "metadata": {},
   "outputs": [
    {
     "name": "stdout",
     "output_type": "stream",
     "text": [
      "[[1 2 1]\n",
      " [1 1 0]\n",
      " [1 1 1]]\n"
     ]
    }
   ],
   "source": [
    "params = np.array([[1, 2, 1], [1, 1, 0], [1,1,1]])\n",
    "print(params)"
   ]
  },
  {
   "cell_type": "code",
   "execution_count": 9,
   "metadata": {},
   "outputs": [
    {
     "name": "stdout",
     "output_type": "stream",
     "text": [
      "[270, 150, 220]\n"
     ]
    }
   ],
   "source": [
    "ans = [270, 150, 220]\n",
    "print(ans)"
   ]
  },
  {
   "cell_type": "code",
   "execution_count": 10,
   "metadata": {},
   "outputs": [
    {
     "name": "stdout",
     "output_type": "stream",
     "text": [
      "[[270   2   1]\n",
      " [150   1   0]\n",
      " [220   1   1]] [[  1 270   1]\n",
      " [  1 150   0]\n",
      " [  1 220   1]] [[  1   2 270]\n",
      " [  1   1 150]\n",
      " [  1   1 220]]\n"
     ]
    }
   ],
   "source": [
    "d0 = np.copy(params)\n",
    "d1 = np.copy(params)\n",
    "d2 = np.copy(params)\n",
    "d0[:,0] = ans\n",
    "d1[:,1] = ans\n",
    "d2[:,2] = ans\n",
    "print(d0,d1,d2)"
   ]
  },
  {
   "cell_type": "code",
   "execution_count": 11,
   "metadata": {},
   "outputs": [
    {
     "name": "stdout",
     "output_type": "stream",
     "text": [
      "100.0 50.0 70.0\n"
     ]
    }
   ],
   "source": [
    "x0, x1, x2 = np.round(np.linalg.det(d0) / np.linalg.det(params)), np.round(np.linalg.det(d1) / np.linalg.det(params)), np.round(np.linalg.det(d2) / np.linalg.det(params))\n",
    "print(x0, x1, x2)"
   ]
  },
  {
   "cell_type": "code",
   "execution_count": null,
   "metadata": {},
   "outputs": [],
   "source": []
  },
  {
   "cell_type": "code",
   "execution_count": null,
   "metadata": {},
   "outputs": [],
   "source": []
  },
  {
   "cell_type": "code",
   "execution_count": null,
   "metadata": {},
   "outputs": [],
   "source": []
  },
  {
   "cell_type": "code",
   "execution_count": null,
   "metadata": {},
   "outputs": [],
   "source": []
  }
 ],
 "metadata": {
  "kernelspec": {
   "display_name": "Python 3",
   "language": "python",
   "name": "python3"
  },
  "language_info": {
   "codemirror_mode": {
    "name": "ipython",
    "version": 3
   },
   "file_extension": ".py",
   "mimetype": "text/x-python",
   "name": "python",
   "nbconvert_exporter": "python",
   "pygments_lexer": "ipython3",
   "version": "3.8.0"
  }
 },
 "nbformat": 4,
 "nbformat_minor": 4
}
