{
 "cells": [
  {
   "cell_type": "markdown",
   "metadata": {},
   "source": [
    "# データ初期化"
   ]
  },
  {
   "cell_type": "code",
   "execution_count": 1,
   "metadata": {},
   "outputs": [],
   "source": [
    "import numpy as np\n",
    "from keras.datasets import mnist\n",
    "import matplotlib.pyplot as plt\n",
    "\n",
    "import torch\n",
    "import torch.nn as nn\n",
    "import torch.nn.functional as F\n",
    "\n",
    "from torch.utils.data import DataLoader\n",
    "from torchvision import datasets, transforms\n",
    "\n",
    "import math"
   ]
  },
  {
   "cell_type": "code",
   "execution_count": 2,
   "metadata": {},
   "outputs": [],
   "source": [
    "transform = transforms.ToTensor()\n",
    "\n",
    "train_data = datasets.MNIST(\"./data\", train=True, download=True, transform=transform)\n",
    "test_data = datasets.MNIST(\"./data\", train=False, download=True, transform=transform)"
   ]
  },
  {
   "cell_type": "code",
   "execution_count": 3,
   "metadata": {},
   "outputs": [],
   "source": [
    "loader_train = DataLoader(train_data, batch_size=128, shuffle=True)\n",
    "loader_test = DataLoader(test_data, batch_size=128, shuffle=False)\n",
    "\n",
    "image, label = train_data[0]"
   ]
  },
  {
   "cell_type": "code",
   "execution_count": 4,
   "metadata": {},
   "outputs": [
    {
     "data": {
      "text/plain": [
       "<matplotlib.image.AxesImage at 0x14c13d190>"
      ]
     },
     "execution_count": 4,
     "metadata": {},
     "output_type": "execute_result"
    },
    {
     "data": {
      "image/png": "[encoded data removed]",
      "text/plain": [
       "<Figure size 432x288 with 1 Axes>"
      ]
     },
     "metadata": {
      "needs_background": "light"
     },
     "output_type": "display_data"
    }
   ],
   "source": [
    "plt.imshow(image.reshape(28, 28), cmap=\"gist_yarg\")"
   ]
  },
  {
   "cell_type": "code",
   "execution_count": 5,
   "metadata": {},
   "outputs": [
    {
     "data": {
      "text/plain": [
       "tensor([[0.0000, 0.0000, 0.0000, 0.0000, 0.0000, 0.0000, 0.0000, 0.0000, 0.0000,\n",
       "         0.0000, 0.0000, 0.0000, 0.0000, 0.0000, 0.0000, 0.0000, 0.0000, 0.0000,\n",
       "         0.0000, 0.0000, 0.0000, 0.0000, 0.0000, 0.0000, 0.0000, 0.0000, 0.0000,\n",
       "         0.0000],\n",
       "        [0.0000, 0.0000, 0.0000, 0.0000, 0.0000, 0.0000, 0.0000, 0.0000, 0.0000,\n",
       "         0.0000, 0.0000, 0.0000, 0.0000, 0.0000, 0.0000, 0.0000, 0.0000, 0.0000,\n",
       "         0.0000, 0.0000, 0.0000, 0.0000, 0.0000, 0.0000, 0.0000, 0.0000, 0.0000,\n",
       "         0.0000],\n",
       "        [0.0000, 0.0000, 0.0000, 0.0000, 0.0000, 0.0000, 0.0000, 0.0000, 0.0000,\n",
       "         0.0000, 0.0000, 0.0000, 0.0000, 0.0000, 0.0000, 0.0000, 0.0000, 0.0000,\n",
       "         0.0000, 0.0000, 0.0000, 0.0000, 0.0000, 0.0000, 0.0000, 0.0000, 0.0000,\n",
       "         0.0000],\n",
       "        [0.0000, 0.0000, 0.0000, 0.0000, 0.0000, 0.0000, 0.0000, 0.0000, 0.0000,\n",
       "         0.0000, 0.0000, 0.0000, 0.0000, 0.0000, 0.0000, 0.0000, 0.0000, 0.0000,\n",
       "         0.0000, 0.0000, 0.0000, 0.0000, 0.0000, 0.0000, 0.0000, 0.0000, 0.0000,\n",
       "         0.0000],\n",
       "        [0.0000, 0.0000, 0.0000, 0.0000, 0.0000, 0.0000, 0.0000, 0.0000, 0.0000,\n",
       "         0.0000, 0.0000, 0.0000, 0.0000, 0.0000, 0.0000, 0.0000, 0.0000, 0.0000,\n",
       "         0.0000, 0.0000, 0.0000, 0.0000, 0.0000, 0.0000, 0.0000, 0.0000, 0.0000,\n",
       "         0.0000],\n",
       "        [0.0000, 0.0000, 0.0000, 0.0000, 0.0000, 0.0000, 0.0000, 0.0000, 0.0000,\n",
       "         0.0000, 0.0000, 0.0000, 0.0118, 0.0706, 0.0706, 0.0706, 0.4941, 0.5333,\n",
       "         0.6863, 0.1020, 0.6510, 1.0000, 0.9686, 0.4980, 0.0000, 0.0000, 0.0000,\n",
       "         0.0000],\n",
       "        [0.0000, 0.0000, 0.0000, 0.0000, 0.0000, 0.0000, 0.0000, 0.0000, 0.1176,\n",
       "         0.1412, 0.3686, 0.6039, 0.6667, 0.9922, 0.9922, 0.9922, 0.9922, 0.9922,\n",
       "         0.8824, 0.6745, 0.9922, 0.9490, 0.7647, 0.2510, 0.0000, 0.0000, 0.0000,\n",
       "         0.0000],\n",
       "        [0.0000, 0.0000, 0.0000, 0.0000, 0.0000, 0.0000, 0.0000, 0.1922, 0.9333,\n",
       "         0.9922, 0.9922, 0.9922, 0.9922, 0.9922, 0.9922, 0.9922, 0.9922, 0.9843,\n",
       "         0.3647, 0.3216, 0.3216, 0.2196, 0.1529, 0.0000, 0.0000, 0.0000, 0.0000,\n",
       "         0.0000],\n",
       "        [0.0000, 0.0000, 0.0000, 0.0000, 0.0000, 0.0000, 0.0000, 0.0706, 0.8588,\n",
       "         0.9922, 0.9922, 0.9922, 0.9922, 0.9922, 0.7765, 0.7137, 0.9686, 0.9451,\n",
       "         0.0000, 0.0000, 0.0000, 0.0000, 0.0000, 0.0000, 0.0000, 0.0000, 0.0000,\n",
       "         0.0000],\n",
       "        [0.0000, 0.0000, 0.0000, 0.0000, 0.0000, 0.0000, 0.0000, 0.0000, 0.3137,\n",
       "         0.6118, 0.4196, 0.9922, 0.9922, 0.8039, 0.0431, 0.0000, 0.1686, 0.6039,\n",
       "         0.0000, 0.0000, 0.0000, 0.0000, 0.0000, 0.0000, 0.0000, 0.0000, 0.0000,\n",
       "         0.0000],\n",
       "        [0.0000, 0.0000, 0.0000, 0.0000, 0.0000, 0.0000, 0.0000, 0.0000, 0.0000,\n",
       "         0.0549, 0.0039, 0.6039, 0.9922, 0.3529, 0.0000, 0.0000, 0.0000, 0.0000,\n",
       "         0.0000, 0.0000, 0.0000, 0.0000, 0.0000, 0.0000, 0.0000, 0.0000, 0.0000,\n",
       "         0.0000],\n",
       "        [0.0000, 0.0000, 0.0000, 0.0000, 0.0000, 0.0000, 0.0000, 0.0000, 0.0000,\n",
       "         0.0000, 0.0000, 0.5451, 0.9922, 0.7451, 0.0078, 0.0000, 0.0000, 0.0000,\n",
       "         0.0000, 0.0000, 0.0000, 0.0000, 0.0000, 0.0000, 0.0000, 0.0000, 0.0000,\n",
       "         0.0000],\n",
       "        [0.0000, 0.0000, 0.0000, 0.0000, 0.0000, 0.0000, 0.0000, 0.0000, 0.0000,\n",
       "         0.0000, 0.0000, 0.0431, 0.7451, 0.9922, 0.2745, 0.0000, 0.0000, 0.0000,\n",
       "         0.0000, 0.0000, 0.0000, 0.0000, 0.0000, 0.0000, 0.0000, 0.0000, 0.0000,\n",
       "         0.0000],\n",
       "        [0.0000, 0.0000, 0.0000, 0.0000, 0.0000, 0.0000, 0.0000, 0.0000, 0.0000,\n",
       "         0.0000, 0.0000, 0.0000, 0.1373, 0.9451, 0.8824, 0.6275, 0.4235, 0.0039,\n",
       "         0.0000, 0.0000, 0.0000, 0.0000, 0.0000, 0.0000, 0.0000, 0.0000, 0.0000,\n",
       "         0.0000],\n",
       "        [0.0000, 0.0000, 0.0000, 0.0000, 0.0000, 0.0000, 0.0000, 0.0000, 0.0000,\n",
       "         0.0000, 0.0000, 0.0000, 0.0000, 0.3176, 0.9412, 0.9922, 0.9922, 0.4667,\n",
       "         0.0980, 0.0000, 0.0000, 0.0000, 0.0000, 0.0000, 0.0000, 0.0000, 0.0000,\n",
       "         0.0000],\n",
       "        [0.0000, 0.0000, 0.0000, 0.0000, 0.0000, 0.0000, 0.0000, 0.0000, 0.0000,\n",
       "         0.0000, 0.0000, 0.0000, 0.0000, 0.0000, 0.1765, 0.7294, 0.9922, 0.9922,\n",
       "         0.5882, 0.1059, 0.0000, 0.0000, 0.0000, 0.0000, 0.0000, 0.0000, 0.0000,\n",
       "         0.0000],\n",
       "        [0.0000, 0.0000, 0.0000, 0.0000, 0.0000, 0.0000, 0.0000, 0.0000, 0.0000,\n",
       "         0.0000, 0.0000, 0.0000, 0.0000, 0.0000, 0.0000, 0.0627, 0.3647, 0.9882,\n",
       "         0.9922, 0.7333, 0.0000, 0.0000, 0.0000, 0.0000, 0.0000, 0.0000, 0.0000,\n",
       "         0.0000],\n",
       "        [0.0000, 0.0000, 0.0000, 0.0000, 0.0000, 0.0000, 0.0000, 0.0000, 0.0000,\n",
       "         0.0000, 0.0000, 0.0000, 0.0000, 0.0000, 0.0000, 0.0000, 0.0000, 0.9765,\n",
       "         0.9922, 0.9765, 0.2510, 0.0000, 0.0000, 0.0000, 0.0000, 0.0000, 0.0000,\n",
       "         0.0000],\n",
       "        [0.0000, 0.0000, 0.0000, 0.0000, 0.0000, 0.0000, 0.0000, 0.0000, 0.0000,\n",
       "         0.0000, 0.0000, 0.0000, 0.0000, 0.0000, 0.1804, 0.5098, 0.7176, 0.9922,\n",
       "         0.9922, 0.8118, 0.0078, 0.0000, 0.0000, 0.0000, 0.0000, 0.0000, 0.0000,\n",
       "         0.0000],\n",
       "        [0.0000, 0.0000, 0.0000, 0.0000, 0.0000, 0.0000, 0.0000, 0.0000, 0.0000,\n",
       "         0.0000, 0.0000, 0.0000, 0.1529, 0.5804, 0.8980, 0.9922, 0.9922, 0.9922,\n",
       "         0.9804, 0.7137, 0.0000, 0.0000, 0.0000, 0.0000, 0.0000, 0.0000, 0.0000,\n",
       "         0.0000],\n",
       "        [0.0000, 0.0000, 0.0000, 0.0000, 0.0000, 0.0000, 0.0000, 0.0000, 0.0000,\n",
       "         0.0000, 0.0941, 0.4471, 0.8667, 0.9922, 0.9922, 0.9922, 0.9922, 0.7882,\n",
       "         0.3059, 0.0000, 0.0000, 0.0000, 0.0000, 0.0000, 0.0000, 0.0000, 0.0000,\n",
       "         0.0000],\n",
       "        [0.0000, 0.0000, 0.0000, 0.0000, 0.0000, 0.0000, 0.0000, 0.0000, 0.0902,\n",
       "         0.2588, 0.8353, 0.9922, 0.9922, 0.9922, 0.9922, 0.7765, 0.3176, 0.0078,\n",
       "         0.0000, 0.0000, 0.0000, 0.0000, 0.0000, 0.0000, 0.0000, 0.0000, 0.0000,\n",
       "         0.0000],\n",
       "        [0.0000, 0.0000, 0.0000, 0.0000, 0.0000, 0.0000, 0.0706, 0.6706, 0.8588,\n",
       "         0.9922, 0.9922, 0.9922, 0.9922, 0.7647, 0.3137, 0.0353, 0.0000, 0.0000,\n",
       "         0.0000, 0.0000, 0.0000, 0.0000, 0.0000, 0.0000, 0.0000, 0.0000, 0.0000,\n",
       "         0.0000],\n",
       "        [0.0000, 0.0000, 0.0000, 0.0000, 0.2157, 0.6745, 0.8863, 0.9922, 0.9922,\n",
       "         0.9922, 0.9922, 0.9569, 0.5216, 0.0431, 0.0000, 0.0000, 0.0000, 0.0000,\n",
       "         0.0000, 0.0000, 0.0000, 0.0000, 0.0000, 0.0000, 0.0000, 0.0000, 0.0000,\n",
       "         0.0000],\n",
       "        [0.0000, 0.0000, 0.0000, 0.0000, 0.5333, 0.9922, 0.9922, 0.9922, 0.8314,\n",
       "         0.5294, 0.5176, 0.0627, 0.0000, 0.0000, 0.0000, 0.0000, 0.0000, 0.0000,\n",
       "         0.0000, 0.0000, 0.0000, 0.0000, 0.0000, 0.0000, 0.0000, 0.0000, 0.0000,\n",
       "         0.0000],\n",
       "        [0.0000, 0.0000, 0.0000, 0.0000, 0.0000, 0.0000, 0.0000, 0.0000, 0.0000,\n",
       "         0.0000, 0.0000, 0.0000, 0.0000, 0.0000, 0.0000, 0.0000, 0.0000, 0.0000,\n",
       "         0.0000, 0.0000, 0.0000, 0.0000, 0.0000, 0.0000, 0.0000, 0.0000, 0.0000,\n",
       "         0.0000],\n",
       "        [0.0000, 0.0000, 0.0000, 0.0000, 0.0000, 0.0000, 0.0000, 0.0000, 0.0000,\n",
       "         0.0000, 0.0000, 0.0000, 0.0000, 0.0000, 0.0000, 0.0000, 0.0000, 0.0000,\n",
       "         0.0000, 0.0000, 0.0000, 0.0000, 0.0000, 0.0000, 0.0000, 0.0000, 0.0000,\n",
       "         0.0000],\n",
       "        [0.0000, 0.0000, 0.0000, 0.0000, 0.0000, 0.0000, 0.0000, 0.0000, 0.0000,\n",
       "         0.0000, 0.0000, 0.0000, 0.0000, 0.0000, 0.0000, 0.0000, 0.0000, 0.0000,\n",
       "         0.0000, 0.0000, 0.0000, 0.0000, 0.0000, 0.0000, 0.0000, 0.0000, 0.0000,\n",
       "         0.0000]])"
      ]
     },
     "execution_count": 5,
     "metadata": {},
     "output_type": "execute_result"
    }
   ],
   "source": [
    "# mnist data from torch already normalized to scale between 0 and 1!\n",
    "image.reshape(28, 28) "
   ]
  },
  {
   "cell_type": "code",
   "execution_count": 6,
   "metadata": {},
   "outputs": [],
   "source": [
    "# (x_train, t_train), (x_test, t_test) = mnist.load_data()\n",
    "# x_train = x_train.reshape(60000, 1, 28, 28)\n",
    "# x_test = x_test.reshape(10000, 1, 28, 28)\n",
    "\n",
    "# x_train = (x_train / 255)\n",
    "# x_test = (x_test / 255)\n",
    "\n",
    "# x_train, t_train, x_test, t_test = map(\n",
    "#     torch.tensor,\n",
    "#     (x_train, t_train, x_test, t_test)\n",
    "# )\n",
    "\n",
    "# x_train = x_train.data.type(torch.float32)\n",
    "# x_test = x_test.data.type(torch.float32)\n",
    "# t_train = t_train.data.type(torch.float32)\n",
    "# t_test = t_test.data.type(torch.float32)\n",
    "\n",
    "# # y_train = torch.nn.functional.one_hot(y_train.to(torch.int64), num_classes=10)\n",
    "# # y_test = torch.nn.functional.one_hot(y_test.to(torch.int64), num_classes=10)\n",
    "\n",
    "# from torch.utils.data import TensorDataset, DataLoader\n",
    "\n",
    "# ds_train = TensorDataset(x_train, t_train)\n",
    "# ds_test = TensorDataset(x_test, t_test)\n",
    "\n",
    "# loader_train = DataLoader(ds_train, batch_size=128, shuffle=True)\n",
    "# loader_test = DataLoader(ds_train, batch_size=128, shuffle=False)"
   ]
  },
  {
   "cell_type": "code",
   "execution_count": null,
   "metadata": {},
   "outputs": [],
   "source": []
  },
  {
   "cell_type": "code",
   "execution_count": null,
   "metadata": {},
   "outputs": [],
   "source": []
  },
  {
   "cell_type": "markdown",
   "metadata": {},
   "source": [
    "# スクラッチ"
   ]
  },
  {
   "cell_type": "code",
   "execution_count": 7,
   "metadata": {},
   "outputs": [],
   "source": [
    "# w1 = torch.rand(784, 50, requires_grad=True, dtype=torch.float)\n",
    "# w2 = torch.rand(50, 50, requires_grad=True, dtype=torch.float)\n",
    "# w3 = torch.rand(50, 25, requires_grad=True, dtype=torch.float)\n",
    "# w4 = torch.rand(25, 10, requires_grad=True, dtype=torch.float)\n",
    "\n",
    "# for t in range(100):\n",
    "#     h1 = x_train @ w1\n",
    "#     z1 = torch.relu(h1)\n",
    "#     h2 = z1 @ w2\n",
    "#     z2 = torch.relu(h2)\n",
    "#     h3 = z2 @ w3\n",
    "#     z3 = torch.relu(h3)\n",
    "#     h4 = z3 @ w4\n",
    "#     y_pred = torch.sigmoid(torch.div(h4, torch.max(h4)))\n",
    "    \n",
    "#     loss = (y_pred - y_train).pow(2).sum()\n",
    "    \n",
    "#     if (t % 10 == 9):\n",
    "#         print(t, loss.item() // 1)\n",
    "# #         print(y_pred[0], y_train[0], h4[0], h3[0], h2[0], h1[0])\n",
    "    \n",
    "#     loss.backward()\n",
    "    \n",
    "#     with torch.no_grad():\n",
    "#         w1 -= 0.01 * w1.grad\n",
    "#         w2 -= 0.01 * w2.grad\n",
    "#         w3 -= 0.01 * w3.grad\n",
    "#         w4 -= 0.01 * w4.grad\n",
    "        \n",
    "#         w1.grad.zero_()\n",
    "#         w2.grad.zero_()\n",
    "#         w3.grad.zero_()\n",
    "#         w4.grad.zero_()\n"
   ]
  },
  {
   "cell_type": "code",
   "execution_count": null,
   "metadata": {},
   "outputs": [],
   "source": []
  },
  {
   "cell_type": "markdown",
   "metadata": {},
   "source": [
    "# nn"
   ]
  },
  {
   "cell_type": "code",
   "execution_count": 8,
   "metadata": {},
   "outputs": [
    {
     "name": "stdout",
     "output_type": "stream",
     "text": [
      "----------------------------------------------------------------\n",
      "        Layer (type)               Output Shape         Param #\n",
      "================================================================\n",
      "            Conv2d-1           [-1, 32, 26, 26]             320\n",
      "              ReLU-2           [-1, 32, 26, 26]               0\n",
      "         MaxPool2d-3             [-1, 32, 3, 3]               0\n",
      "           Flatten-4                  [-1, 288]               0\n",
      "            Linear-5                   [-1, 10]           2,890\n",
      "================================================================\n",
      "Total params: 3,210\n",
      "Trainable params: 3,210\n",
      "Non-trainable params: 0\n",
      "----------------------------------------------------------------\n",
      "Input size (MB): 0.00\n",
      "Forward/backward pass size (MB): 0.33\n",
      "Params size (MB): 0.01\n",
      "Estimated Total Size (MB): 0.35\n",
      "----------------------------------------------------------------\n",
      "エポック：1, 訓練正解率:0.758, テスト正解率：0.917\n"
     ]
    }
   ],
   "source": [
    "channel = 1 # num of color (only gray here)\n",
    "image = 28 # num of pixels of image\n",
    "layer_num = 32 # num of layers wanted to be generated\n",
    "kernel_size = 3 # size of conv, need to be squire size\n",
    "pool_size = 7 # pooling size\n",
    "output = 10 # last size\n",
    "\n",
    "model = torch.nn.Sequential(\n",
    "  torch.nn.Conv2d(channel, layer_num, kernel_size),\n",
    "  torch.nn.ReLU(),\n",
    "  torch.nn.MaxPool2d(pool_size, pool_size),\n",
    "  torch.nn.Flatten(),\n",
    "  torch.nn.Linear(((image - kernel_size + 1) // pool_size) ** 2 * layer_num, output),\n",
    ")\n",
    "\n",
    "from torchsummary import summary\n",
    "summary(model, input_size=(channel,image,image))\n",
    "\n",
    "\n",
    "optimizer = torch.optim.Adam(model.parameters())\n",
    "criterion = torch.nn.CrossEntropyLoss()\n",
    "\n",
    "for epoch in range(1):\n",
    "  loss_train = []\n",
    "  loss_test = []\n",
    "  train_num = 0\n",
    "  test_num = 0\n",
    "  train_true_num = 0\n",
    "  test_true_num = 0\n",
    "  \n",
    "  model.train()\n",
    "  for x, t in loader_train:\n",
    "    optimizer.zero_grad()\n",
    "    \n",
    "    y = model(x)\n",
    "    \n",
    "    loss = criterion(y, t.long())\n",
    "    loss.backward()\n",
    "\n",
    "    optimizer.step()\n",
    "    \n",
    "    loss_train.append(loss.tolist())\n",
    "    train_num += t.shape[0]\n",
    "    train_true_num += (y.argmax(1) == t).sum().item()\n",
    "  \n",
    "  model.eval()\n",
    "  for x, t in loader_test:\n",
    "    y = model(x)\n",
    "    loss = criterion(y, t.long())\n",
    "    loss_test.append(loss.tolist())\n",
    "    test_num += t.shape[0]\n",
    "    test_true_num += (y.argmax(1) == t).sum().item()\n",
    "        \n",
    "  print(\"エポック：{}, 訓練正解率:{:.3f}, テスト正解率：{:.3f}\".format(epoch + 1, train_true_num/train_num, test_true_num/test_num))"
   ]
  },
  {
   "cell_type": "raw",
   "metadata": {},
   "source": [
    "SGD\n",
    "エポック：1, 訓練正解率:0.673, テスト正解率：0.850\n",
    "エポック：2, 訓練正解率:0.874, テスト正解率：0.889\n",
    "エポック：3, 訓練正解率:0.893, テスト正解率：0.895\n",
    "エポック：4, 訓練正解率:0.901, テスト正解率：0.905\n",
    "エポック：5, 訓練正解率:0.906, テスト正解率：0.908\n",
    "エポック：6, 訓練正解率:0.911, テスト正解率：0.913\n",
    "エポック：7, 訓練正解率:0.913, テスト正解率：0.915\n",
    "エポック：8, 訓練正解率:0.916, テスト正解率：0.918\n",
    "エポック：9, 訓練正解率:0.918, テスト正解率：0.920\n",
    "エポック：10, 訓練正解率:0.920, テスト正解率：0.922\n",
    "\n",
    "Adam\n",
    "エポック：1, 訓練正解率:0.860, テスト正解率：0.921\n",
    "エポック：2, 訓練正解率:0.929, テスト正解率：0.939\n",
    "エポック：3, 訓練正解率:0.945, テスト正解率：0.952\n",
    "エポック：4, 訓練正解率:0.954, テスト正解率：0.960\n",
    "エポック：5, 訓練正解率:0.962, テスト正解率：0.968\n",
    "エポック：6, 訓練正解率:0.968, テスト正解率：0.972\n",
    "エポック：7, 訓練正解率:0.972, テスト正解率：0.976\n",
    "エポック：8, 訓練正解率:0.976, テスト正解率：0.981\n",
    "エポック：9, 訓練正解率:0.979, テスト正解率：0.982\n",
    "エポック：10, 訓練正解率:0.982, テスト正解率：0.985\n",
    "\n",
    "層追加\n",
    "エポック：1, 訓練正解率:0.809, テスト正解率：0.921\n",
    "エポック：2, 訓練正解率:0.932, テスト正解率：0.942\n",
    "エポック：3, 訓練正解率:0.951, テスト正解率：0.961\n",
    "エポック：4, 訓練正解率:0.961, テスト正解率：0.968\n",
    "エポック：5, 訓練正解率:0.970, テスト正解率：0.976\n",
    "エポック：6, 訓練正解率:0.976, テスト正解率：0.979\n",
    "エポック：7, 訓練正解率:0.980, テスト正解率：0.979\n",
    "エポック：8, 訓練正解率:0.983, テスト正解率：0.987\n",
    "エポック：9, 訓練正解率:0.986, テスト正解率：0.990\n",
    "エポック：10, 訓練正解率:0.988, テスト正解率：0.992\n",
    "\n",
    "Conv\n",
    "エポック：1, 訓練正解率:0.883, テスト正解率：0.951\n",
    "エポック：2, 訓練正解率:0.961, テスト正解率：0.967\n",
    "エポック：3, 訓練正解率:0.971, テスト正解率：0.970\n",
    "エポック：4, 訓練正解率:0.975, テスト正解率：0.977\n",
    "エポック：5, 訓練正解率:0.977, テスト正解率：0.978\n",
    "エポック：6, 訓練正解率:0.979, テスト正解率：0.982\n",
    "エポック：7, 訓練正解率:0.981, テスト正解率：0.983\n",
    "エポック：8, 訓練正解率:0.982, テスト正解率：0.983\n",
    "エポック：9, 訓練正解率:0.983, テスト正解率：0.985\n",
    "エポック：10, 訓練正解率:0.984, テスト正解率：0.986"
   ]
  },
  {
   "cell_type": "code",
   "execution_count": null,
   "metadata": {},
   "outputs": [],
   "source": []
  },
  {
   "cell_type": "code",
   "execution_count": 9,
   "metadata": {},
   "outputs": [],
   "source": [
    "import torch.nn.functional as F"
   ]
  },
  {
   "cell_type": "code",
   "execution_count": 140,
   "metadata": {},
   "outputs": [],
   "source": [
    "class ConvolutionalModel(nn.Module):\n",
    "    def __init__(self):\n",
    "        super().__init__()\n",
    "        self.fn1 = nn.Conv2d(in_channels=1, out_channels=16, kernel_size=3, stride=1)\n",
    "        self.fn3 = nn.Linear(in_features=13*13*16, out_features=256)\n",
    "        self.fn4 = nn.Linear(in_features=256, out_features=10)\n",
    "\n",
    "    def forward(self, X):\n",
    "        X = F.relu(self.fn1(X))\n",
    "        X = F.max_pool2d(X, 2, 2)\n",
    "        X = X.reshape(-1, 13*13*16)\n",
    "        X = F.relu(self.fn3(X))\n",
    "        X = F.log_softmax(self.fn4(X), dim=1)\n",
    "        return X\n"
   ]
  },
  {
   "cell_type": "code",
   "execution_count": 141,
   "metadata": {},
   "outputs": [
    {
     "data": {
      "text/plain": [
       "ConvolutionalModel(\n",
       "  (fn1): Conv2d(1, 16, kernel_size=(3, 3), stride=(1, 1))\n",
       "  (fn3): Linear(in_features=2704, out_features=256, bias=True)\n",
       "  (fn4): Linear(in_features=256, out_features=10, bias=True)\n",
       ")"
      ]
     },
     "execution_count": 141,
     "metadata": {},
     "output_type": "execute_result"
    }
   ],
   "source": []
  },
  {
   "cell_type": "code",
   "execution_count": 142,
   "metadata": {},
   "outputs": [],
   "source": []
  },
  {
   "cell_type": "code",
   "execution_count": 143,
   "metadata": {},
   "outputs": [
    {
     "name": "stdout",
     "output_type": "stream",
     "text": [
      "epoch   1 batch    0 loss: 2.297 acc 0.133 \n",
      "epoch   1 batch  100 loss: 0.260 acc 0.830 \n",
      "epoch   1 batch  200 loss: 0.268 acc 0.879 \n",
      "epoch   1 batch  300 loss: 0.237 acc 0.901 \n",
      "epoch   1 batch  400 loss: 0.136 acc 0.916 \n",
      "epoch   1 batch    0 testloss: 0.049 testacc 0.992 \n",
      "epoch   2 batch    0 loss: 0.123 acc 0.961 \n",
      "epoch   2 batch  100 loss: 0.044 acc 0.968 \n",
      "epoch   2 batch  200 loss: 0.088 acc 0.972 \n",
      "epoch   2 batch  300 loss: 0.044 acc 0.972 \n",
      "epoch   2 batch  400 loss: 0.062 acc 0.973 \n",
      "epoch   2 batch    0 testloss: 0.032 testacc 0.992 \n"
     ]
    }
   ],
   "source": [
    "model = ConvolutionalModel()\n",
    "model\n",
    "\n",
    "criterion = torch.nn.CrossEntropyLoss()\n",
    "optimizer = torch.optim.Adam(model.parameters(), lr=0.001)\n",
    "\n",
    "epochs = 2\n",
    "\n",
    "for epoch in range(epochs):\n",
    "    model.train()\n",
    "    \n",
    "    epoch+=1\n",
    "\n",
    "    loss_log = []\n",
    "    correct_count = 0\n",
    "    total_count = 0\n",
    "    \n",
    "    test_correct_count = 0\n",
    "    test_total_count = 0\n",
    "\n",
    "    for b, (X_train, T_train) in enumerate(loader_train):\n",
    "        y = model.forward(X_train)\n",
    "        loss = criterion(y, T_train)\n",
    "\n",
    "        optimizer.zero_grad()\n",
    "        loss.backward()\n",
    "        optimizer.step()\n",
    "        correct_count += (y.argmax(axis=1) == T_train).sum()\n",
    "        total_count += 128\n",
    "        \n",
    "        \n",
    "        if b % 100 == 0:\n",
    "            print(f\"epoch {epoch:3.0f} batch {b:4.0f} loss: {loss.item():3.3f} acc {float(correct_count)/float(total_count):3.3f} \")\n",
    "\n",
    "    loss_log.append(loss.item)\n",
    "\n",
    "    with torch.no_grad():\n",
    "        \n",
    "        for b, (X_test, T_test) in enumerate(loader_test):\n",
    "            y = model.forward(X_test)\n",
    "            loss = criterion(y, T_test)\n",
    "\n",
    "            test_correct_count += (y.argmax(axis=1) == T_test).sum()\n",
    "            test_total_count += 128\n",
    "\n",
    "            if b % 100 == 0:\n",
    "                print(f\"epoch {epoch:3.0f} batch {b:4.0f} testloss: {loss.item():3.3f} testacc {float(test_correct_count)/float(test_total_count):3.3f} \")\n"
   ]
  },
  {
   "cell_type": "code",
   "execution_count": null,
   "metadata": {},
   "outputs": [],
   "source": []
  },
  {
   "cell_type": "code",
   "execution_count": null,
   "metadata": {},
   "outputs": [],
   "source": []
  }
 ],
 "metadata": {
  "kernelspec": {
   "display_name": "Python 3",
   "language": "python",
   "name": "python3"
  },
  "language_info": {
   "codemirror_mode": {
    "name": "ipython",
    "version": 3
   },
   "file_extension": ".py",
   "mimetype": "text/x-python",
   "name": "python",
   "nbconvert_exporter": "python",
   "pygments_lexer": "ipython3",
   "version": "3.8.0"
  }
 },
 "nbformat": 4,
 "nbformat_minor": 4
}
