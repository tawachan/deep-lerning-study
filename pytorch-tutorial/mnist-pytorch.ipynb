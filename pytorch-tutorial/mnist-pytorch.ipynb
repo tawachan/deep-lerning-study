{
 "cells": [
  {
   "cell_type": "markdown",
   "metadata": {},
   "source": [
    "# データ初期化"
   ]
  },
  {
   "cell_type": "code",
   "execution_count": 8,
   "metadata": {},
   "outputs": [],
   "source": [
    "import numpy as np\n",
    "from keras.datasets import mnist\n",
    "\n",
    "import torch\n",
    "\n",
    "import math"
   ]
  },
  {
   "cell_type": "code",
   "execution_count": 70,
   "metadata": {},
   "outputs": [],
   "source": [
    "(x_train, t_train), (x_test, t_test) = mnist.load_data()\n",
    "x_train = x_train.reshape(60000, 1, 28, 28)\n",
    "x_test = x_test.reshape(10000, 1, 28, 28)\n",
    "\n",
    "x_train = (x_train / 255)\n",
    "x_test = (x_test / 255)\n",
    "\n",
    "x_train, t_train, x_test, t_test = map(\n",
    "    torch.tensor,\n",
    "    (x_train, t_train, x_test, t_test)\n",
    ")\n",
    "\n",
    "x_train = x_train.data.type(torch.float32)\n",
    "x_test = x_test.data.type(torch.float32)\n",
    "t_train = t_train.data.type(torch.float32)\n",
    "t_test = t_test.data.type(torch.float32)\n",
    "\n",
    "# y_train = torch.nn.functional.one_hot(y_train.to(torch.int64), num_classes=10)\n",
    "# y_test = torch.nn.functional.one_hot(y_test.to(torch.int64), num_classes=10)\n"
   ]
  },
  {
   "cell_type": "code",
   "execution_count": 71,
   "metadata": {},
   "outputs": [
    {
     "name": "stdout",
     "output_type": "stream",
     "text": [
      "torch.Size([60000, 1, 28, 28])\n"
     ]
    },
    {
     "data": {
      "image/png": "[encoded data removed]",
      "text/plain": [
       "<Figure size 432x288 with 1 Axes>"
      ]
     },
     "metadata": {
      "needs_background": "light"
     },
     "output_type": "display_data"
    }
   ],
   "source": [
    "from matplotlib import pyplot\n",
    "\n",
    "pyplot.imshow(x_train[0].reshape((28, 28)), cmap=\"gray\")\n",
    "print(x_train.shape)"
   ]
  },
  {
   "cell_type": "code",
   "execution_count": null,
   "metadata": {},
   "outputs": [],
   "source": []
  },
  {
   "cell_type": "markdown",
   "metadata": {},
   "source": [
    "# スクラッチ"
   ]
  },
  {
   "cell_type": "code",
   "execution_count": 72,
   "metadata": {},
   "outputs": [],
   "source": [
    "# w1 = torch.rand(784, 50, requires_grad=True, dtype=torch.float)\n",
    "# w2 = torch.rand(50, 50, requires_grad=True, dtype=torch.float)\n",
    "# w3 = torch.rand(50, 25, requires_grad=True, dtype=torch.float)\n",
    "# w4 = torch.rand(25, 10, requires_grad=True, dtype=torch.float)\n",
    "\n",
    "# for t in range(100):\n",
    "#     h1 = x_train @ w1\n",
    "#     z1 = torch.relu(h1)\n",
    "#     h2 = z1 @ w2\n",
    "#     z2 = torch.relu(h2)\n",
    "#     h3 = z2 @ w3\n",
    "#     z3 = torch.relu(h3)\n",
    "#     h4 = z3 @ w4\n",
    "#     y_pred = torch.sigmoid(torch.div(h4, torch.max(h4)))\n",
    "    \n",
    "#     loss = (y_pred - y_train).pow(2).sum()\n",
    "    \n",
    "#     if (t % 10 == 9):\n",
    "#         print(t, loss.item() // 1)\n",
    "# #         print(y_pred[0], y_train[0], h4[0], h3[0], h2[0], h1[0])\n",
    "    \n",
    "#     loss.backward()\n",
    "    \n",
    "#     with torch.no_grad():\n",
    "#         w1 -= 0.01 * w1.grad\n",
    "#         w2 -= 0.01 * w2.grad\n",
    "#         w3 -= 0.01 * w3.grad\n",
    "#         w4 -= 0.01 * w4.grad\n",
    "        \n",
    "#         w1.grad.zero_()\n",
    "#         w2.grad.zero_()\n",
    "#         w3.grad.zero_()\n",
    "#         w4.grad.zero_()\n"
   ]
  },
  {
   "cell_type": "code",
   "execution_count": 73,
   "metadata": {},
   "outputs": [],
   "source": [
    "from torch.utils.data import TensorDataset, DataLoader\n",
    "\n",
    "ds_train = TensorDataset(x_train, t_train)\n",
    "ds_test = TensorDataset(x_test, t_test)\n",
    "\n",
    "loader_train = DataLoader(ds_train, batch_size=128, shuffle=True)\n",
    "loader_test = DataLoader(ds_train, batch_size=128, shuffle=False)"
   ]
  },
  {
   "cell_type": "markdown",
   "metadata": {},
   "source": [
    "# nn"
   ]
  },
  {
   "cell_type": "code",
   "execution_count": 120,
   "metadata": {},
   "outputs": [
    {
     "name": "stdout",
     "output_type": "stream",
     "text": [
      "----------------------------------------------------------------\n",
      "        Layer (type)               Output Shape         Param #\n",
      "================================================================\n",
      "            Conv2d-1           [-1, 32, 26, 26]             320\n",
      "              ReLU-2           [-1, 32, 26, 26]               0\n",
      "         MaxPool2d-3             [-1, 32, 6, 6]               0\n",
      "           Flatten-4                 [-1, 1152]               0\n",
      "            Linear-5                   [-1, 10]          11,530\n",
      "================================================================\n",
      "Total params: 11,850\n",
      "Trainable params: 11,850\n",
      "Non-trainable params: 0\n",
      "----------------------------------------------------------------\n",
      "Input size (MB): 0.00\n",
      "Forward/backward pass size (MB): 0.35\n",
      "Params size (MB): 0.05\n",
      "Estimated Total Size (MB): 0.40\n",
      "----------------------------------------------------------------\n",
      "エポック：1, 訓練正解率:0.883, テスト正解率：0.951\n",
      "エポック：2, 訓練正解率:0.961, テスト正解率：0.967\n",
      "エポック：3, 訓練正解率:0.971, テスト正解率：0.970\n",
      "エポック：4, 訓練正解率:0.975, テスト正解率：0.977\n",
      "エポック：5, 訓練正解率:0.977, テスト正解率：0.978\n",
      "エポック：6, 訓練正解率:0.979, テスト正解率：0.982\n",
      "エポック：7, 訓練正解率:0.981, テスト正解率：0.983\n",
      "エポック：8, 訓練正解率:0.982, テスト正解率：0.983\n",
      "エポック：9, 訓練正解率:0.983, テスト正解率：0.985\n",
      "エポック：10, 訓練正解率:0.984, テスト正解率：0.986\n"
     ]
    }
   ],
   "source": [
    "channel = 1\n",
    "image = 28\n",
    "layer_num = 32\n",
    "kernel_size = 3\n",
    "pool_size = 4\n",
    "output = 10\n",
    "\n",
    "model = torch.nn.Sequential(\n",
    "  torch.nn.Conv2d(channel, layer_num, kernel_size),\n",
    "  torch.nn.ReLU(),\n",
    "  torch.nn.MaxPool2d(pool_size, pool_size),\n",
    "  torch.nn.Flatten(),\n",
    "  torch.nn.Linear(((image - kernel_size + 1) // pool_size) ** 2 * layer_num, output),\n",
    ")\n",
    "\n",
    "from torchsummary import summary\n",
    "summary(model, input_size=(channel,image,image))\n",
    "\n",
    "\n",
    "optimizer = torch.optim.Adam(model.parameters())\n",
    "criterion = torch.nn.CrossEntropyLoss()\n",
    "\n",
    "for epoch in range(10):\n",
    "  loss_train = []\n",
    "  loss_test = []\n",
    "  train_num = 0\n",
    "  test_num = 0\n",
    "  train_true_num = 0\n",
    "  test_true_num = 0\n",
    "  \n",
    "  model.train()\n",
    "  for x, t in loader_train:\n",
    "    optimizer.zero_grad()\n",
    "    \n",
    "    y = model(x)\n",
    "    \n",
    "    loss = criterion(y, t.long())\n",
    "    loss.backward()\n",
    "\n",
    "    optimizer.step()\n",
    "    \n",
    "    loss_train.append(loss.tolist())\n",
    "    train_num += t.shape[0]\n",
    "    train_true_num += (y.argmax(1) == t).sum().item()\n",
    "  \n",
    "  model.eval()\n",
    "  for x, t in loader_test:\n",
    "    y = model(x)\n",
    "    loss = criterion(y, t.long())\n",
    "    loss_test.append(loss.tolist())\n",
    "    test_num += t.shape[0]\n",
    "    test_true_num += (y.argmax(1) == t).sum().item()\n",
    "        \n",
    "  print(\"エポック：{}, 訓練正解率:{:.3f}, テスト正解率：{:.3f}\".format(epoch + 1, train_true_num/train_num, test_true_num/test_num))"
   ]
  },
  {
   "cell_type": "raw",
   "metadata": {},
   "source": [
    "SGD\n",
    "エポック：1, 訓練正解率:0.673, テスト正解率：0.850\n",
    "エポック：2, 訓練正解率:0.874, テスト正解率：0.889\n",
    "エポック：3, 訓練正解率:0.893, テスト正解率：0.895\n",
    "エポック：4, 訓練正解率:0.901, テスト正解率：0.905\n",
    "エポック：5, 訓練正解率:0.906, テスト正解率：0.908\n",
    "エポック：6, 訓練正解率:0.911, テスト正解率：0.913\n",
    "エポック：7, 訓練正解率:0.913, テスト正解率：0.915\n",
    "エポック：8, 訓練正解率:0.916, テスト正解率：0.918\n",
    "エポック：9, 訓練正解率:0.918, テスト正解率：0.920\n",
    "エポック：10, 訓練正解率:0.920, テスト正解率：0.922\n",
    "\n",
    "Adam\n",
    "エポック：1, 訓練正解率:0.860, テスト正解率：0.921\n",
    "エポック：2, 訓練正解率:0.929, テスト正解率：0.939\n",
    "エポック：3, 訓練正解率:0.945, テスト正解率：0.952\n",
    "エポック：4, 訓練正解率:0.954, テスト正解率：0.960\n",
    "エポック：5, 訓練正解率:0.962, テスト正解率：0.968\n",
    "エポック：6, 訓練正解率:0.968, テスト正解率：0.972\n",
    "エポック：7, 訓練正解率:0.972, テスト正解率：0.976\n",
    "エポック：8, 訓練正解率:0.976, テスト正解率：0.981\n",
    "エポック：9, 訓練正解率:0.979, テスト正解率：0.982\n",
    "エポック：10, 訓練正解率:0.982, テスト正解率：0.985\n",
    "\n",
    "層追加\n",
    "エポック：1, 訓練正解率:0.809, テスト正解率：0.921\n",
    "エポック：2, 訓練正解率:0.932, テスト正解率：0.942\n",
    "エポック：3, 訓練正解率:0.951, テスト正解率：0.961\n",
    "エポック：4, 訓練正解率:0.961, テスト正解率：0.968\n",
    "エポック：5, 訓練正解率:0.970, テスト正解率：0.976\n",
    "エポック：6, 訓練正解率:0.976, テスト正解率：0.979\n",
    "エポック：7, 訓練正解率:0.980, テスト正解率：0.979\n",
    "エポック：8, 訓練正解率:0.983, テスト正解率：0.987\n",
    "エポック：9, 訓練正解率:0.986, テスト正解率：0.990\n",
    "エポック：10, 訓練正解率:0.988, テスト正解率：0.992\n",
    "\n",
    "Conv\n",
    "エポック：1, 訓練正解率:0.883, テスト正解率：0.951\n",
    "エポック：2, 訓練正解率:0.961, テスト正解率：0.967\n",
    "エポック：3, 訓練正解率:0.971, テスト正解率：0.970\n",
    "エポック：4, 訓練正解率:0.975, テスト正解率：0.977\n",
    "エポック：5, 訓練正解率:0.977, テスト正解率：0.978\n",
    "エポック：6, 訓練正解率:0.979, テスト正解率：0.982\n",
    "エポック：7, 訓練正解率:0.981, テスト正解率：0.983\n",
    "エポック：8, 訓練正解率:0.982, テスト正解率：0.983\n",
    "エポック：9, 訓練正解率:0.983, テスト正解率：0.985\n",
    "エポック：10, 訓練正解率:0.984, テスト正解率：0.986"
   ]
  },
  {
   "cell_type": "code",
   "execution_count": null,
   "metadata": {},
   "outputs": [],
   "source": []
  },
  {
   "cell_type": "code",
   "execution_count": null,
   "metadata": {},
   "outputs": [],
   "source": []
  }
 ],
 "metadata": {
  "kernelspec": {
   "display_name": "Python 3",
   "language": "python",
   "name": "python3"
  },
  "language_info": {
   "codemirror_mode": {
    "name": "ipython",
    "version": 3
   },
   "file_extension": ".py",
   "mimetype": "text/x-python",
   "name": "python",
   "nbconvert_exporter": "python",
   "pygments_lexer": "ipython3",
   "version": "3.8.0"
  }
 },
 "nbformat": 4,
 "nbformat_minor": 4
}
